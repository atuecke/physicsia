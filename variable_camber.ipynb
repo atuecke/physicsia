{
 "cells": [
  {
   "cell_type": "code",
   "execution_count": 41,
   "metadata": {},
   "outputs": [],
   "source": [
    "import subprocess\n",
    "import random\n",
    "import os\n",
    "import pandas as pd\n",
    "import shutil"
   ]
  },
  {
   "cell_type": "markdown",
   "metadata": {},
   "source": [
    "Define key variables"
   ]
  },
  {
   "cell_type": "code",
   "execution_count": 42,
   "metadata": {},
   "outputs": [],
   "source": [
    "#The Mach speed of the airfoil\n",
    "MACH = 0.2\n",
    "\n",
    "#The variability of the Mach speed, + or - this number\n",
    "MACH_VARIABILITY = 0.001\n",
    "\n",
    "#The Alphas of the airfoil\n",
    "ALPHAS = [0, 1, 2, 3, 4, 5, 6, 7, 8, 9, 10, 11, 12, 13, 14, 15, 16, 17, 18, 19, 20]\n",
    "\n",
    "#The variability of the alphas\n",
    "ALPHA_VARIABILITY = 0.08\n",
    "\n",
    "#The Reynolds number\n",
    "REYNOLDS_NUM = 250000\n",
    "\n",
    "#The variability of the Reynolds number\n",
    "REYNOLDS_NUM_VARIABILITY = 2500\n",
    "\n",
    "#The list of the airfoils to run analysis on\n",
    "AIRFOILS = [\"NACA 0012\", \"NACA 1412\", \"NACA 2412\", \"NACA 3412\", \"NACA 4412\", \"NACA 5412\", \"NACA 6412\", \"NACA 7412\", \"NACA 8412\", \"NACA 9412\"]\n",
    "\n",
    "#Toggle showing the graph UI when running notebook\n",
    "HIDE_GRAPH = False\n",
    "\n",
    "#Number of iterations to find convergence\n",
    "NUM_ITERATIONS = 400\n",
    "\n",
    "#Number of simulations done using xfoil for each alpha\n",
    "NUM_SIMS = 15\n",
    "\n",
    "#Where to save the results\n",
    "OUTPUT_FILE = \"./outputs\"\n",
    "\n",
    "SEED = 12345"
   ]
  },
  {
   "cell_type": "code",
   "execution_count": 43,
   "metadata": {},
   "outputs": [],
   "source": [
    "random.seed(SEED)"
   ]
  },
  {
   "cell_type": "markdown",
   "metadata": {},
   "source": [
    "We must define a function to run the commands through XFoil. Because XFoil runs in a console, we use the subprocess library as a proxy to run the commands."
   ]
  },
  {
   "cell_type": "code",
   "execution_count": 44,
   "metadata": {},
   "outputs": [],
   "source": [
    "def run_xfoil_commands(command_list):\n",
    "    \"\"\"\n",
    "    Run a batch of XFoil commands using subprocess and return the output.\n",
    "\n",
    "    Args:\n",
    "        command_list: The list of commands to run in XFoil\n",
    "\n",
    "    Returns:\n",
    "        The console output of XFoil after running commands\n",
    "    \"\"\"\n",
    "    # Join the list of commands into a single string with each command separated by a newline\n",
    "    commands = \"\\n\".join(command_list)\n",
    "    \n",
    "    #Create a subprocess to run the XFoil commands\n",
    "    process = subprocess.Popen(['./XFOIL6.99/xfoil'],\n",
    "                               stdin=subprocess.PIPE,\n",
    "                               stdout=subprocess.PIPE,\n",
    "                               stderr=subprocess.PIPE,\n",
    "                               text=True\n",
    "                               )\n",
    "    \n",
    "    #Run the commands and return the console ouput, aswell as any errors\n",
    "    output, error = process.communicate(input=commands)\n",
    "    return output, error"
   ]
  },
  {
   "cell_type": "markdown",
   "metadata": {},
   "source": [
    "We must then define a function to actually create the list of commands for each airfoil"
   ]
  },
  {
   "cell_type": "code",
   "execution_count": 45,
   "metadata": {},
   "outputs": [],
   "source": [
    "def create_commands(airfoil, alpha):\n",
    "    \"\"\"\n",
    "    Creates a list of commands to be fed into the subprocess.\n",
    "    Args:\n",
    "        airfoil: The NACA airfoil to be used\n",
    "    Returns:\n",
    "        commands: The list of commands\n",
    "        machs: The list of different machs generated with variability\n",
    "        alphas: The list of different alphas generated with variability\n",
    "    \"\"\"\n",
    "\n",
    "    #Create a temporary folder where XFoil can save data\n",
    "    output_path = f\"{OUTPUT_FILE}/temp\"\n",
    "    if os.path.exists(output_path):\n",
    "        shutil.rmtree(output_path)\n",
    "    os.makedirs(output_path)\n",
    "\n",
    "    \n",
    "    machs = []\n",
    "    alphas = []\n",
    "\n",
    "    #Create a list of machs and alphas with random variability defined above\n",
    "    machs = [round(random.uniform(MACH - MACH_VARIABILITY, MACH + MACH_VARIABILITY), 3) for _ in range(NUM_SIMS)]\n",
    "    alphas = [round(random.uniform(alpha - ALPHA_VARIABILITY, alpha + ALPHA_VARIABILITY), 3) for _ in range(NUM_SIMS)]\n",
    "    reynolds = [int(random.uniform(REYNOLDS_NUM - REYNOLDS_NUM_VARIABILITY, REYNOLDS_NUM + REYNOLDS_NUM_VARIABILITY)) for _ in range(NUM_SIMS)]\n",
    "\n",
    "    commands = []\n",
    "\n",
    "    #Turns off the graph window popping up when running the code\n",
    "    if HIDE_GRAPH: commands.extend([\n",
    "        \"PLOP\",\n",
    "        \"G F\",\n",
    "        \"\"\n",
    "    ])\n",
    "    \n",
    "    #Initializes XFoil so it is ready to start the analysis\n",
    "    commands.extend([\n",
    "        airfoil,\n",
    "        \"OPER\",\n",
    "        f\"ITER {NUM_ITERATIONS}\",\n",
    "        f\"Re {REYNOLDS_NUM}\"\n",
    "        \"VISC\"\n",
    "    ])\n",
    "\n",
    "    #For each simulation, add more commands to be run in sequence, each with a randomly variated  mach and alpha number\n",
    "    for i in range(NUM_SIMS):\n",
    "        new_commands = [\n",
    "            f\"MACH {machs[i]}\",\n",
    "            f\"RE {reynolds[i]}\",\n",
    "            \"PACC\",\n",
    "            f\"{output_path}/{i}.txt\",\n",
    "            \"\",\n",
    "            f\"ALFA {alphas[i]}\",\n",
    "            \"PACC\",\n",
    "            \"PDEL\",\n",
    "            \"0\"\n",
    "        ]\n",
    "        commands.extend(new_commands)\n",
    "    \n",
    "    return commands, machs, alphas"
   ]
  },
  {
   "cell_type": "markdown",
   "metadata": {},
   "source": [
    "Next we have to actually read the data that XFoil saves in a text document"
   ]
  },
  {
   "cell_type": "code",
   "execution_count": 46,
   "metadata": {},
   "outputs": [],
   "source": [
    "def read_output(file_path):\n",
    "    \"\"\"\n",
    "    Parses through a XFoil save file and extracts cl, cd, cdp, cm, top_xtr, and bot_xtr\n",
    "    Args:\n",
    "        file_path: The path to the text file\n",
    "    Returns:\n",
    "        alpha: The alpha saved in the text document. This is cross-checked with the alpha defined in the list above to make sure the data lines up.\n",
    "        cl: Coefficient of lift\n",
    "        cd: Coefficient of drag\n",
    "        cdp: Coefficient of pressure drag\n",
    "        cm: Coefficient of momentum\n",
    "        top_xtr: Top transition point\n",
    "        bot_xtr: Bottom transition point\n",
    "    \"\"\"\n",
    "\n",
    "    with open(file_path, 'r') as file:\n",
    "        #Iterates through every line in the text file\n",
    "        for i, line in enumerate(file, start=1):\n",
    "            #Parses through the 13th line, as that is where the important values are stored\n",
    "            if i == 13:\n",
    "                #Splits the line by the spaces between the values and saves them accordingly\n",
    "                values = line.split()\n",
    "                alpha = float(values[0])\n",
    "                cl = float(values[1])\n",
    "                cd = float(values[2])\n",
    "                cdp = float(values[3])\n",
    "                cm = float(values[4])\n",
    "                top_xtr = float(values[5])\n",
    "                bot_xtr = float(values[6])\n",
    "                return alpha, cl, cd, cdp, cm, top_xtr, bot_xtr\n",
    "    return None  # Return None if the file doesn't have 13 lines"
   ]
  },
  {
   "cell_type": "markdown",
   "metadata": {},
   "source": [
    "We also need to make a function that goes through every save file in the temp save folder and makes it into a pandas dataframe"
   ]
  },
  {
   "cell_type": "code",
   "execution_count": 47,
   "metadata": {},
   "outputs": [],
   "source": [
    "def process_folder(machs, alphas, folder_path):\n",
    "    \"\"\"\n",
    "    Parses through every save text file in a folder, extracts the output values, and saves them to a pandas dataframe\n",
    "    Args:\n",
    "        machs: The list of machs with variability defined earlier in create_commands()\n",
    "        alphas: The list of alphas with variability defined earlier in create_commands()\n",
    "        folder_path: The path to the folder that contains the save files\n",
    "    Returns:\n",
    "        A pandas dataframe containing all of the saved data\n",
    "    \"\"\"\n",
    "    data = []\n",
    "    for filename in os.listdir(folder_path):\n",
    "        if filename.endswith('.txt'):\n",
    "            file_path = os.path.join(folder_path, filename)\n",
    "            result = read_output(file_path)\n",
    "            if result:\n",
    "                alpha, cl, cd, cdp, cm, top_xtr, bot_xtr = result\n",
    "                index = int(os.path.splitext(filename)[0])\n",
    "                mach = machs[index]\n",
    "                if alpha != alphas[index]: print(\"Alpha Mismatch!\")\n",
    "                data.append([alpha, mach, cl, cd, cdp, cm, top_xtr, bot_xtr])\n",
    "    \n",
    "    # Convert to DataFrame\n",
    "    df = pd.DataFrame(data, columns=['Alpha', 'Mach', 'CL', 'CD', 'CDp', 'CM', 'Top_Xtr', 'Bot_Xtr'])\n",
    "    return df"
   ]
  },
  {
   "cell_type": "markdown",
   "metadata": {},
   "source": [
    "Finally, we have to actually run the commands"
   ]
  },
  {
   "cell_type": "code",
   "execution_count": 48,
   "metadata": {},
   "outputs": [
    {
     "name": "stdout",
     "output_type": "stream",
     "text": [
      "At line 135 of file ../src/userio.f (unit = 5, file = 'stdin')\n",
      "Fortran runtime error: End of file\n",
      "\n"
     ]
    }
   ],
   "source": [
    "#Iterates through every airfoil in the list and runs an analysis on it, saving the dataframe to a csv file.\n",
    "for airfoil in AIRFOILS:\n",
    "    save_path = f\"{OUTPUT_FILE}/{airfoil}\"\n",
    "    if os.path.exists(save_path):\n",
    "        shutil.rmtree(save_path)\n",
    "    os.makedirs(save_path)\n",
    "    for alpha in ALPHAS:\n",
    "        folder_path = f\"{OUTPUT_FILE}/temp\"\n",
    "        commands, machs, alphas = create_commands(airfoil, alpha)\n",
    "        output, error = run_xfoil_commands(commands)\n",
    "        print(error)\n",
    "        df = process_folder(machs, alphas, folder_path)\n",
    "        shutil.rmtree(folder_path) #Removes the temparary folder when done with the airfoil\n",
    "        df.to_csv(f\"{save_path}/{alpha}.csv\", index=True)"
   ]
  }
 ],
 "metadata": {
  "kernelspec": {
   "display_name": "physicsia",
   "language": "python",
   "name": "python3"
  },
  "language_info": {
   "codemirror_mode": {
    "name": "ipython",
    "version": 3
   },
   "file_extension": ".py",
   "mimetype": "text/x-python",
   "name": "python",
   "nbconvert_exporter": "python",
   "pygments_lexer": "ipython3",
   "version": "3.11.5"
  }
 },
 "nbformat": 4,
 "nbformat_minor": 2
}
