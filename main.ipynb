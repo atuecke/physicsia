{
 "cells": [
  {
   "cell_type": "code",
   "execution_count": 8,
   "metadata": {},
   "outputs": [],
   "source": [
    "import subprocess\n",
    "import random\n",
    "import os\n",
    "import pandas as pd\n",
    "import numpy as np\n",
    "import tqdm\n",
    "import shutil"
   ]
  },
  {
   "cell_type": "code",
   "execution_count": 9,
   "metadata": {},
   "outputs": [],
   "source": [
    "MACH = 0.5\n",
    "MACH_VARIABILITY = 0.01\n",
    "\n",
    "ALPHAS = [5, 6]\n",
    "ALPHA_VARIABILITY = 0.1\n",
    "\n",
    "NUM_SIMS = 100\n",
    "\n",
    "OUTPUT_FILE = \"./outputs\""
   ]
  },
  {
   "cell_type": "code",
   "execution_count": 10,
   "metadata": {},
   "outputs": [],
   "source": [
    "def run_xfoil_commands(command_list):\n",
    "    \"\"\"\n",
    "    Run a batch of XFOIL commands using subprocess and return the output.\n",
    "    \"\"\"\n",
    "    # Join the list of commands into a single string with each command separated by a newline\n",
    "    commands = \"\\n\".join(command_list)\n",
    "    \n",
    "    process = subprocess.Popen(['./XFOIL6.99/xfoil'],\n",
    "                               stdin=subprocess.PIPE,\n",
    "                               stdout=subprocess.PIPE,\n",
    "                               stderr=subprocess.PIPE,\n",
    "                               text=True\n",
    "                               )\n",
    "\n",
    "    output, error = process.communicate(input=commands)\n",
    "    return output"
   ]
  },
  {
   "cell_type": "code",
   "execution_count": 11,
   "metadata": {},
   "outputs": [],
   "source": [
    "def create_commands(alpha):\n",
    "    output_path = f\"{OUTPUT_FILE}/temp\"\n",
    "    if os.path.exists(output_path):\n",
    "        shutil.rmtree(output_path)\n",
    "    os.makedirs(output_path)\n",
    "\n",
    "    machs = []\n",
    "    alphas = []\n",
    "\n",
    "    machs = [round(random.uniform(MACH - MACH_VARIABILITY, MACH + MACH_VARIABILITY), 3) for _ in range(NUM_SIMS)]\n",
    "    alphas = [round(random.uniform(alpha - ALPHA_VARIABILITY, alpha + ALPHA_VARIABILITY), 3) for _ in range(NUM_SIMS)]\n",
    "\n",
    "    np.save(f\"{output_path}/machs.npy\", machs)\n",
    "    np.save(f\"{output_path}/alphas.npy\", alphas)\n",
    "\n",
    "    commands = [\n",
    "        \"PLOP\",\n",
    "        \"G F\",\n",
    "        \"\", \n",
    "        \"NACA 0012\",\n",
    "        \"OPER\",\n",
    "        \"ITER 400\",\n",
    "        \"Re 250000\",\n",
    "        \"VISC\"\n",
    "    ]\n",
    "\n",
    "    for i in range(NUM_SIMS):\n",
    "        new_commands = [\n",
    "            f\"MACH {machs[i]}\",\n",
    "            \"PACC\",\n",
    "            f\"{output_path}/{i}.txt\",\n",
    "            \"\",\n",
    "            f\"ALFA {alphas[i]}\",\n",
    "            \"PACC\",\n",
    "            \"PDEL\",\n",
    "            \"0\"\n",
    "        ]\n",
    "        commands.extend(new_commands)\n",
    "    \n",
    "    return commands, machs, alphas"
   ]
  },
  {
   "cell_type": "code",
   "execution_count": 12,
   "metadata": {},
   "outputs": [],
   "source": [
    "def read_output(file_path):\n",
    "    with open(file_path, 'r') as file:\n",
    "        for i, line in enumerate(file, start=1):\n",
    "            if i == 13:  # Check if it's the 13th line\n",
    "                values = line.split()\n",
    "                alpha = float(values[0])\n",
    "                cl = float(values[1])\n",
    "                cd = float(values[2])\n",
    "                cdp = float(values[3])\n",
    "                cm = float(values[4])\n",
    "                top_xtr = float(values[5])\n",
    "                bot_xtr = float(values[6])\n",
    "                return alpha, cl, cd, cdp, cm, top_xtr, bot_xtr\n",
    "    return None  # Return None if the file doesn't have 13 lines"
   ]
  },
  {
   "cell_type": "code",
   "execution_count": 13,
   "metadata": {},
   "outputs": [],
   "source": [
    "def process_folder(machs, alphas, folder_path):\n",
    "    data = []\n",
    "    for filename in os.listdir(folder_path):\n",
    "        if filename.endswith('.txt'):\n",
    "            file_path = os.path.join(folder_path, filename)\n",
    "            result = read_output(file_path)\n",
    "            if result:\n",
    "                alpha, cl, cd, cdp, cm, top_xtr, bot_xtr = result\n",
    "                index = int(os.path.splitext(filename)[0])\n",
    "                mach = machs[index]\n",
    "                if alpha != alphas[index]: print(\"shit\")\n",
    "                data.append([alpha, mach, cl, cd, cdp, cm, top_xtr, bot_xtr])\n",
    "    \n",
    "    # Convert to DataFrame\n",
    "    df = pd.DataFrame(data, columns=['Alpha', 'Mach', 'CL', 'CD', 'CDp', 'CM', 'Top_Xtr', 'Bot_Xtr'])\n",
    "    return df"
   ]
  },
  {
   "cell_type": "code",
   "execution_count": 14,
   "metadata": {},
   "outputs": [],
   "source": [
    "for alpha in ALPHAS:\n",
    "    folder_path = f\"{OUTPUT_FILE}/temp\"\n",
    "    commands, machs, alphas = create_commands(alpha)\n",
    "    output = run_xfoil_commands(commands)\n",
    "    df = process_folder(machs, alphas, folder_path)\n",
    "    shutil.rmtree(folder_path)\n",
    "    df.to_csv(f\"{OUTPUT_FILE}/{alpha}.csv\", index=True)"
   ]
  }
 ],
 "metadata": {
  "kernelspec": {
   "display_name": "physicsia",
   "language": "python",
   "name": "python3"
  },
  "language_info": {
   "codemirror_mode": {
    "name": "ipython",
    "version": 3
   },
   "file_extension": ".py",
   "mimetype": "text/x-python",
   "name": "python",
   "nbconvert_exporter": "python",
   "pygments_lexer": "ipython3",
   "version": "3.11.5"
  }
 },
 "nbformat": 4,
 "nbformat_minor": 2
}
